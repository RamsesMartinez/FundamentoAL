{
 "cells": [
  {
   "cell_type": "code",
   "execution_count": 1,
   "metadata": {},
   "outputs": [],
   "source": [
    "import numpy as np"
   ]
  },
  {
   "cell_type": "code",
   "execution_count": 2,
   "metadata": {},
   "outputs": [],
   "source": [
    "escalar = False\n",
    "vector = np.array([1,2,3,4])\n",
    "matriz = np.array([[14,24,34],[45,55,56],[67,68,79]])\n",
    "tensor = np.array([\n",
    "    [[14,24,34],[45,55,56],[67,68,79]],\n",
    "    [[100,101,102],[103,104,105],[160,170,180]],\n",
    "    [[190,200,210], [220,230,204], [255,227,238]]\n",
    "])\n"
   ]
  },
  {
   "cell_type": "code",
   "execution_count": 3,
   "metadata": {},
   "outputs": [],
   "source": [
    "#.shape retorna la dimensión de nuestros objetos"
   ]
  },
  {
   "cell_type": "code",
   "execution_count": 4,
   "metadata": {},
   "outputs": [],
   "source": [
    "# escalar.shape\n",
    "# False, un escalar no tiene este atributo\n",
    "# .size() -> Retorna la cantidad total de elementos"
   ]
  },
  {
   "cell_type": "code",
   "execution_count": 5,
   "metadata": {},
   "outputs": [
    {
     "name": "stdout",
     "output_type": "stream",
     "text": "False\n"
    }
   ],
   "source": [
    "print(escalar)"
   ]
  },
  {
   "cell_type": "code",
   "execution_count": 6,
   "metadata": {},
   "outputs": [
    {
     "name": "stdout",
     "output_type": "stream",
     "text": "[1 2 3 4]\n4\n"
    },
    {
     "data": {
      "text/plain": "(4,)"
     },
     "execution_count": 6,
     "metadata": {},
     "output_type": "execute_result"
    }
   ],
   "source": [
    "print(vector)\n",
    "print(vector.size)\n",
    "vector.shape\n",
    "# (4,)"
   ]
  },
  {
   "cell_type": "code",
   "execution_count": 7,
   "metadata": {},
   "outputs": [
    {
     "name": "stdout",
     "output_type": "stream",
     "text": "[[14 24 34]\n [45 55 56]\n [67 68 79]]\n9\n"
    },
    {
     "data": {
      "text/plain": "(3, 3)"
     },
     "execution_count": 7,
     "metadata": {},
     "output_type": "execute_result"
    }
   ],
   "source": [
    "print(matriz)\n",
    "print(matriz.size)\n",
    "\n",
    "matriz.shape\n",
    "# (3, 3)"
   ]
  },
  {
   "cell_type": "code",
   "execution_count": 8,
   "metadata": {},
   "outputs": [
    {
     "name": "stdout",
     "output_type": "stream",
     "text": "[[[ 14  24  34]\n  [ 45  55  56]\n  [ 67  68  79]]\n\n [[100 101 102]\n  [103 104 105]\n  [160 170 180]]\n\n [[190 200 210]\n  [220 230 204]\n  [255 227 238]]]\n27\n"
    },
    {
     "data": {
      "text/plain": "(3, 3, 3)"
     },
     "execution_count": 8,
     "metadata": {},
     "output_type": "execute_result"
    }
   ],
   "source": [
    "print(tensor)\n",
    "print(tensor.size)\n",
    "\n",
    "tensor.shape\n",
    "# (3, 3, 3)"
   ]
  },
  {
   "cell_type": "code",
   "execution_count": null,
   "metadata": {},
   "outputs": [],
   "source": []
  }
 ],
 "metadata": {
  "kernelspec": {
   "display_name": "Python 3",
   "language": "python",
   "name": "python3"
  },
  "language_info": {
   "codemirror_mode": {
    "name": "ipython",
    "version": 3
   },
   "file_extension": ".py",
   "mimetype": "text/x-python",
   "name": "python",
   "nbconvert_exporter": "python",
   "pygments_lexer": "ipython3",
   "version": "3.7.5"
  }
 },
 "nbformat": 4,
 "nbformat_minor": 2
}