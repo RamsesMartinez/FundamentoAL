{
 "nbformat": 4,
 "nbformat_minor": 2,
 "metadata": {
  "language_info": {
   "name": "python",
   "codemirror_mode": {
    "name": "ipython",
    "version": 3
   },
   "version": "3.7.5"
  },
  "orig_nbformat": 2,
  "file_extension": ".py",
  "mimetype": "text/x-python",
  "name": "python",
  "npconvert_exporter": "python",
  "pygments_lexer": "ipython3",
  "version": 3
 },
 "cells": [
  {
   "cell_type": "code",
   "execution_count": 30,
   "metadata": {},
   "outputs": [],
   "source": [
    "import numpy as np\n",
    "# Transponer un vector o matriz, es cambiar las filas por columnas"
   ]
  },
  {
   "cell_type": "code",
   "execution_count": 31,
   "metadata": {},
   "outputs": [],
   "source": [
    "escalar = 6.3256\n",
    "vector = np.array([1,2,3,4])\n",
    "matriz = np.array([[14,24],[45,55],[67,69]])\n",
    "tensor = np.array([\n",
    "    [[14,24,34, 20],[45,55,56, 20],[67,68,79, 50]],\n",
    "    [[100,101,102, 12],[103,104,105,23],[160,170,180,23]],\n",
    "    [[190,200,210,50], [220,230,204,34], [255,227,238,55]]\n",
    "])"
   ]
  },
  {
   "cell_type": "code",
   "execution_count": 32,
   "metadata": {},
   "outputs": [],
   "source": [
    "# escalar_t = escalar.T -> AttributeError\n",
    "# Por definición un escalar no tiene ni filas ni columnas"
   ]
  },
  {
   "cell_type": "code",
   "execution_count": 33,
   "metadata": {},
   "outputs": [
    {
     "name": "stdout",
     "output_type": "stream",
     "text": "[1 2 3 4]\n"
    }
   ],
   "source": [
    "print(vector)\n"
   ]
  },
  {
   "cell_type": "code",
   "execution_count": 34,
   "metadata": {},
   "outputs": [
    {
     "name": "stdout",
     "output_type": "stream",
     "text": "[1 2 3 4]\n"
    }
   ],
   "source": [
    "vector_t = vector.T\n",
    "print(vector_t)"
   ]
  },
  {
   "cell_type": "code",
   "execution_count": 35,
   "metadata": {},
   "outputs": [
    {
     "name": "stdout",
     "output_type": "stream",
     "text": "[[14 24]\n [45 55]\n [67 69]]\n"
    }
   ],
   "source": [
    "print(matriz)"
   ]
  },
  {
   "cell_type": "code",
   "execution_count": 36,
   "metadata": {},
   "outputs": [
    {
     "name": "stdout",
     "output_type": "stream",
     "text": "[[14 45 67]\n [24 55 69]]\n"
    }
   ],
   "source": [
    "matriz_t = matriz.T\n",
    "print(matriz_t)"
   ]
  },
  {
   "cell_type": "code",
   "execution_count": 37,
   "metadata": {},
   "outputs": [
    {
     "name": "stdout",
     "output_type": "stream",
     "text": "[[[ 14  24  34  20]\n  [ 45  55  56  20]\n  [ 67  68  79  50]]\n\n [[100 101 102  12]\n  [103 104 105  23]\n  [160 170 180  23]]\n\n [[190 200 210  50]\n  [220 230 204  34]\n  [255 227 238  55]]]\n"
    }
   ],
   "source": [
    "print(tensor)\n"
   ]
  },
  {
   "cell_type": "code",
   "execution_count": 38,
   "metadata": {},
   "outputs": [
    {
     "name": "stdout",
     "output_type": "stream",
     "text": "[[[ 14 100 190]\n  [ 45 103 220]\n  [ 67 160 255]]\n\n [[ 24 101 200]\n  [ 55 104 230]\n  [ 68 170 227]]\n\n [[ 34 102 210]\n  [ 56 105 204]\n  [ 79 180 238]]\n\n [[ 20  12  50]\n  [ 20  23  34]\n  [ 50  23  55]]]\n"
    }
   ],
   "source": [
    "tensor_t = tensor.T\n",
    "print(tensor_t)"
   ]
  },
  {
   "cell_type": "code",
   "execution_count": 40,
   "metadata": {},
   "outputs": [
    {
     "name": "stdout",
     "output_type": "stream",
     "text": "[[14 24]\n [45 55]\n [67 69]]\n"
    }
   ],
   "source": [
    "matriz_t_t = matriz_t.T\n",
    "print(matriz_t_t)\n",
    "# Retorna la matriz original"
   ]
  },
  {
   "cell_type": "code",
   "execution_count": 41,
   "metadata": {},
   "outputs": [],
   "source": [
    "# La suma de matrices se puede dar cuando las matrices tienen la misma cantidad de filas y columnas, o si se suma con un escalar\n",
    "# En las siguientes lecciones se enseña broadcasting, para sumar distintas filas y columnas"
   ]
  },
  {
   "cell_type": "code",
   "execution_count": 43,
   "metadata": {},
   "outputs": [],
   "source": [
    "A = matriz\n",
    "B = matriz_t\n",
    "# Marca error, dado que no tienen la misma cantidad de filas y columnas\n",
    "# C = A + B -> ValueError                                "
   ]
  },
  {
   "cell_type": "code",
   "execution_count": 45,
   "metadata": {},
   "outputs": [
    {
     "name": "stdout",
     "output_type": "stream",
     "text": "[[1 2]\n [3 4]\n [5 6]]\n[[6 5]\n [4 3]\n [2 1]]\n[[7 7]\n [7 7]\n [7 7]]\n"
    }
   ],
   "source": [
    "A = np.array([[1,2],[3,4],[5,6]])\n",
    "B = np.array([[6,5],[4,3],[2,1]])\n",
    "C = A + B\n",
    "print(A)\n",
    "print(B)\n",
    "print(C)"
   ]
  },
  {
   "cell_type": "code",
   "execution_count": 46,
   "metadata": {},
   "outputs": [
    {
     "name": "stdout",
     "output_type": "stream",
     "text": "[[20.3256 30.3256]\n [51.3256 61.3256]\n [73.3256 75.3256]]\n"
    }
   ],
   "source": [
    "D = matriz + escalar \n",
    "print(D)"
   ]
  },
  {
   "cell_type": "code",
   "execution_count": null,
   "metadata": {},
   "outputs": [],
   "source": []
  }
 ]
}